{
 "cells": [
  {
   "attachments": {},
   "cell_type": "markdown",
   "metadata": {},
   "source": [
    "(00:astropy_fits)=\n",
    "# About ``astropy.fits``\n",
    "\n",
    "## Basic Information about FITS\n",
    "* **FITS** = see [this official web](https://fits.gsfc.nasa.gov) and the [latest FITS standard document](https://fits.gsfc.nasa.gov/standard40/fits_standard40aa-le.pdf).\n",
    "    * In section 4.4.2 of the document above, some standard keywords which you will most frequently see are described, including ``DATE-OBS``, ``OBJECT``, ``TELESCOP``, ``INSTRUME``, ``OBSERVER``, ``BSCALE``, ``BZERO``, ``BUNIT``,  etc. \n",
    "    * Summary described in Appendix C.\n",
    "    * WCS is briefly explained in Ch 8.\n",
    "* **HDU** = Header Data Unit\n",
    "* **HDU List** = python ``list`` of the HDU objects\n",
    "* **MEF** = Multi-Extension FITS\n",
    "* A HDU is composed of Primary header (optionally with data) and other header & data. The simplest one contains only the primary HDU. In many cases, more than one such HDU is present in one FITS file. That is called the MEF.\n"
   ]
  },
  {
   "attachments": {},
   "cell_type": "markdown",
   "metadata": {},
   "source": [
    "## Prerequisites\n",
    "\n",
    "Before you start this notebook, \n",
    "\n",
    "**MUST READ**:\n",
    "* [Viewing and manipulating FITS images](https://learn.astropy.org/tutorials/FITS-images.html): Tutorial using Horsehead nebula image\n",
    "* [Same as above](http://eso-python.github.io/ESOPythonTutorials/FITS-images.html) but slightly different and the outputs are a bit outdated.\n",
    "\n",
    "**Highly recommended to read**:\n",
    "* [learn astropy](https://learn.astropy.org/)\n",
    "* About FITS image from an [astropy documentation](https://docs.astropy.org/en/stable/io/fits/usage/image.html).\n",
    "\n",
    "**Other References**\n",
    "\n",
    "If you want, **you may also look at these advaced tutorials** for your own research purposes:\n",
    "* Visit [learn astropy](https://learn.astropy.org/) and select `fits` on the left sidebar"
   ]
  },
  {
   "cell_type": "code",
   "execution_count": 1,
   "metadata": {},
   "outputs": [],
   "source": [
    "from pathlib import Path\n",
    "import numpy as np\n",
    "import time\n",
    "\n",
    "from astropy.io import fits\n",
    "from astropy.nddata import CCDData"
   ]
  },
  {
   "attachments": {},
   "cell_type": "markdown",
   "metadata": {},
   "source": [
    "## FITS from `Astropy`"
   ]
  },
  {
   "attachments": {},
   "cell_type": "markdown",
   "metadata": {},
   "source": [
    "### Making FITS  from ndarray\n",
    "If you only have ndarray (e.g., numpy array), how can we convert it to FITS?"
   ]
  },
  {
   "attachments": {},
   "cell_type": "markdown",
   "metadata": {},
   "source": [
    "#### Making and Saving with ``CCDData``\n",
    "The simplest way is to use ``CCDData``:"
   ]
  },
  {
   "cell_type": "code",
   "execution_count": 2,
   "metadata": {},
   "outputs": [
    {
     "name": "stdout",
     "output_type": "stream",
     "text": [
      "<class 'astropy.nddata.ccddata.CCDData'>\n",
      "[[1. 1. 1. ... 1. 1. 1.]\n",
      " [1. 1. 1. ... 1. 1. 1.]\n",
      " [1. 1. 1. ... 1. 1. 1.]\n",
      " ...\n",
      " [1. 1. 1. ... 1. 1. 1.]\n",
      " [1. 1. 1. ... 1. 1. 1.]\n",
      " [1. 1. 1. ... 1. 1. 1.]]\n"
     ]
    }
   ],
   "source": [
    "test_data_01 = np.ones((100, 100))\n",
    "test_ccd_01 = CCDData(data=test_data_01, header=None, unit='adu')\n",
    "print(type(test_ccd_01))\n",
    "print(test_ccd_01.data)"
   ]
  },
  {
   "cell_type": "code",
   "execution_count": 3,
   "metadata": {},
   "outputs": [
    {
     "data": {
      "text/plain": [
       "OrderedDict()"
      ]
     },
     "execution_count": 3,
     "metadata": {},
     "output_type": "execute_result"
    }
   ],
   "source": [
    "test_ccd_01.header"
   ]
  },
  {
   "cell_type": "markdown",
   "metadata": {},
   "source": [
    "Note that \n",
    "1. ``unit`` is a mandatory input for ``CCDData`` (which is, in my humble opinion, very annoying...)\n",
    "2. The ``test_ccd_01.header`` does not contain anything and returned as ``OrderedDict()``. \n",
    "\n",
    "**It is always recommended to attach header to each FITS file**, but let me just save it for simple example:"
   ]
  },
  {
   "cell_type": "code",
   "execution_count": 4,
   "metadata": {},
   "outputs": [],
   "source": [
    "test_ccd_01.write(\"test_01.fits\", overwrite=True)"
   ]
  },
  {
   "cell_type": "markdown",
   "metadata": {},
   "source": [
    "There is a specifically dedicated writer [``fits_ccddata_writer``](https://docs.astropy.org/en/stable/api/astropy.nddata.fits_ccddata_writer.html#astropy.nddata.fits_ccddata_writer) which is used to write a ``CCDData`` object to FITS file. Look at the doc for detailed saving options."
   ]
  },
  {
   "attachments": {},
   "cell_type": "markdown",
   "metadata": {},
   "source": [
    "#### Making and Saving FITS data with ``astropy.fits``\n",
    "The ``fits`` is more general than ``CCDData``, because, by principle, FITS should be able to contain virtually anything (including CCD image, star catalog, simulation data, etc). Thus, it's more complicated if you are only interested in the data from CCD (now you understand why ``CCDData`` is named so).\n",
    "\n",
    "There are, thus, at least two ways to save our 2-D CCD-like data:\n",
    "\n",
    "1. ``PrimaryHDU()``: A simple choice for the single extension case\n",
    "2. ``ImageHDU()``: A choice for the MEF case\n",
    "\n",
    "I here will show you how to make ``HDUList`` and save it using simple ``PrimaryHDU()``. Below there's a way for MEF in this note. Also you can check the [astropy doc on HDU](https://docs.astropy.org/en/stable/io/fits/api/hdus.html) for other classes of HDU."
   ]
  },
  {
   "cell_type": "code",
   "execution_count": 5,
   "metadata": {},
   "outputs": [
    {
     "name": "stdout",
     "output_type": "stream",
     "text": [
      "<class 'astropy.io.fits.hdu.image.PrimaryHDU'>\n",
      "[[1. 1. 1. ... 1. 1. 1.]\n",
      " [1. 1. 1. ... 1. 1. 1.]\n",
      " [1. 1. 1. ... 1. 1. 1.]\n",
      " ...\n",
      " [1. 1. 1. ... 1. 1. 1.]\n",
      " [1. 1. 1. ... 1. 1. 1.]\n",
      " [1. 1. 1. ... 1. 1. 1.]]\n"
     ]
    }
   ],
   "source": [
    "test_data_01 = np.ones((100, 100))\n",
    "test_hdu_01 = fits.PrimaryHDU(data=test_data_01, header=None)\n",
    "print(type(test_hdu_01))\n",
    "print(test_hdu_01.data)"
   ]
  },
  {
   "cell_type": "code",
   "execution_count": 6,
   "metadata": {},
   "outputs": [],
   "source": [
    "# If you want, you can make HDUList.\n",
    "# But it is unnecessary because we have only one extension.\n",
    "# hdul = fits.HDUList([test_hdu_01])\n",
    "\n",
    "test_hdu_01.writeto(\"test_01.fits\", overwrite=True, output_verify='fix')"
   ]
  },
  {
   "cell_type": "markdown",
   "metadata": {},
   "source": [
    "For the options when writing, please look at the official document ([here](https://astropy.readthedocs.io/en/stable/io/fits/api/files.html#astropy.io.fits.writeto))."
   ]
  },
  {
   "attachments": {},
   "cell_type": "markdown",
   "metadata": {},
   "source": [
    "### Reading FITS"
   ]
  },
  {
   "attachments": {},
   "cell_type": "markdown",
   "metadata": {},
   "source": [
    "#### Reading with ``CCDData.read()``\n",
    "\n",
    "Let's read this:"
   ]
  },
  {
   "cell_type": "code",
   "execution_count": 7,
   "metadata": {},
   "outputs": [
    {
     "name": "stdout",
     "output_type": "stream",
     "text": [
      "<class 'astropy.nddata.ccddata.CCDData'>\n",
      "[[1. 1. 1. ... 1. 1. 1.]\n",
      " [1. 1. 1. ... 1. 1. 1.]\n",
      " [1. 1. 1. ... 1. 1. 1.]\n",
      " ...\n",
      " [1. 1. 1. ... 1. 1. 1.]\n",
      " [1. 1. 1. ... 1. 1. 1.]\n",
      " [1. 1. 1. ... 1. 1. 1.]]\n"
     ]
    }
   ],
   "source": [
    "test_ccd_01_read = CCDData.read(\"test_01.fits\", unit=\"adu\")\n",
    "print(type(test_ccd_01_read))\n",
    "print(test_ccd_01_read.data)"
   ]
  },
  {
   "cell_type": "code",
   "execution_count": 8,
   "metadata": {},
   "outputs": [
    {
     "data": {
      "text/plain": [
       "SIMPLE  =                    T / conforms to FITS standard                      \n",
       "BITPIX  =                  -64 / array data type                                \n",
       "NAXIS   =                    2 / number of array dimensions                     \n",
       "NAXIS1  =                  100                                                  \n",
       "NAXIS2  =                  100                                                  \n",
       "EXTEND  =                    T                                                  "
      ]
     },
     "execution_count": 8,
     "metadata": {},
     "output_type": "execute_result"
    }
   ],
   "source": [
    "test_ccd_01_read.header"
   ]
  },
  {
   "cell_type": "markdown",
   "metadata": {},
   "source": [
    "Note now that the header is automatically generated when it is being saved!\n",
    "\n",
    "The **mandatory** keywords are generated (see the official standard FITS documentation in the beginning of this notebook).\n",
    "\n",
    "This means, \n",
    "1. ``SIMPLE = T``: It follows the FITS standard\n",
    "2. ``BITPIX = -64``: The data is in 64-bit float (see below)\n",
    "3. ``NAXIS = 2``: The data has 2 axis.\n",
    "4. ``NAXIS1 = 100`` and ``NAXIS2 = 100``: The data has 1st axis (X-axis, which is ``numpy axis 1``) of length 100 and the 2nd axis (Y-axis, which is ``numpy axis 0``) of length 100.\n",
    "5. ``BUNIT = 'adu    '``: The unit of the pixel is in ADU.\n",
    "\n",
    "From [astropy doc](https://docs.astropy.org/en/stable/io/fits/usage/image.html):\n",
    "\n",
    "        BITPIX    Numpy Data Type\n",
    "        8         numpy.uint8 (note it is UNsigned integer)\n",
    "        16        numpy.int16\n",
    "        32        numpy.int32\n",
    "        -32       numpy.float32\n",
    "        -64       numpy.float64"
   ]
  },
  {
   "attachments": {},
   "cell_type": "markdown",
   "metadata": {},
   "source": [
    "#### Reading with ``fits.open()``\n",
    "Once it is saved, you can also read the FITS using ``astropy.fits``:"
   ]
  },
  {
   "cell_type": "code",
   "execution_count": 9,
   "metadata": {},
   "outputs": [
    {
     "name": "stdout",
     "output_type": "stream",
     "text": [
      "<class 'astropy.io.fits.hdu.hdulist.HDUList'>\n"
     ]
    }
   ],
   "source": [
    "test_ccd_01_hdul = fits.open(\"test_01.fits\")\n",
    "print(type(test_ccd_01_hdul))"
   ]
  },
  {
   "cell_type": "markdown",
   "metadata": {},
   "source": [
    "Now it's not ``CCDData``, but ``HDUList`` object. It's like a python list, so you need to specify the index based on the information:"
   ]
  },
  {
   "cell_type": "code",
   "execution_count": 10,
   "metadata": {},
   "outputs": [
    {
     "name": "stdout",
     "output_type": "stream",
     "text": [
      "Filename: test_01.fits\n",
      "No.    Name      Ver    Type      Cards   Dimensions   Format\n",
      "  0  PRIMARY       1 PrimaryHDU       6   (100, 100)   float64   \n",
      "None\n"
     ]
    }
   ],
   "source": [
    "print(test_ccd_01_hdul.info())"
   ]
  },
  {
   "cell_type": "code",
   "execution_count": 11,
   "metadata": {},
   "outputs": [
    {
     "name": "stdout",
     "output_type": "stream",
     "text": [
      "<class 'astropy.io.fits.hdu.image.PrimaryHDU'>\n",
      "<class 'astropy.io.fits.hdu.image.PrimaryHDU'>\n"
     ]
    }
   ],
   "source": [
    "print(type(test_ccd_01_hdul[0]))\n",
    "print(type(test_ccd_01_hdul[\"PRIMARY\"]))"
   ]
  },
  {
   "cell_type": "markdown",
   "metadata": {},
   "source": [
    "As can be seen, you can use index or ``Name`` in the ``.info()`` result."
   ]
  },
  {
   "cell_type": "code",
   "execution_count": 12,
   "metadata": {},
   "outputs": [
    {
     "name": "stdout",
     "output_type": "stream",
     "text": [
      "[[1. 1. 1. ... 1. 1. 1.]\n",
      " [1. 1. 1. ... 1. 1. 1.]\n",
      " [1. 1. 1. ... 1. 1. 1.]\n",
      " ...\n",
      " [1. 1. 1. ... 1. 1. 1.]\n",
      " [1. 1. 1. ... 1. 1. 1.]\n",
      " [1. 1. 1. ... 1. 1. 1.]]\n"
     ]
    }
   ],
   "source": [
    "print(test_ccd_01_hdul[0].data)"
   ]
  },
  {
   "cell_type": "code",
   "execution_count": 13,
   "metadata": {},
   "outputs": [
    {
     "data": {
      "text/plain": [
       "SIMPLE  =                    T / conforms to FITS standard                      \n",
       "BITPIX  =                  -64 / array data type                                \n",
       "NAXIS   =                    2 / number of array dimensions                     \n",
       "NAXIS1  =                  100                                                  \n",
       "NAXIS2  =                  100                                                  \n",
       "EXTEND  =                    T                                                  "
      ]
     },
     "execution_count": 13,
     "metadata": {},
     "output_type": "execute_result"
    }
   ],
   "source": [
    "test_ccd_01_hdul[0].header"
   ]
  },
  {
   "cell_type": "markdown",
   "metadata": {},
   "source": [
    "Now you have identical result as the above ``CCDData.read`` case."
   ]
  },
  {
   "attachments": {},
   "cell_type": "markdown",
   "metadata": {},
   "source": [
    "You can also use other methods (see [File Handling and Convenience Functions](https://docs.astropy.org/en/stable/io/fits/api/files.html))\n",
    "\n",
    "* ``getheader()``: only gets header\n",
    "* ``getdata()``: only gets data\n",
    "\n",
    "But if you need both header and data, **DON'T** use these, but just use ``.open()``. These are useful only when you need either one of the two. \n",
    "\n",
    "* **NOTE**: It's also not recommended to use ``setval()``, ``delval()``, etc, unless you have definite reasons, because these overwrite the existing information. What if you have already used one of these but then found a mistake/bug in your code..? You have to re-download all the FITS files to start over again."
   ]
  },
  {
   "attachments": {},
   "cell_type": "markdown",
   "metadata": {},
   "source": [
    "### Adding/Manipulating Header\n",
    "There are several ways to add header using [``Header``](https://docs.astropy.org/en/stable/io/fits/api/headers.html)."
   ]
  },
  {
   "attachments": {},
   "cell_type": "markdown",
   "metadata": {},
   "source": [
    "#### ``Header.fromstring()``\n",
    "The most primitive way. Likely this is used only if you want to make a fixed example (such as bug report) or tutorial like this notebook."
   ]
  },
  {
   "cell_type": "code",
   "execution_count": 14,
   "metadata": {},
   "outputs": [],
   "source": [
    "test_data_02 = np.ones((10, 20))\n",
    "\n",
    "header_str = '''OBJECT  = 'dark    '                                                            \n",
    "GAIN    =    1.360000014305115 / [e-/ADU] The electron gain factor.             \n",
    "RDNOISE =                  9.0 / [e-] The (Gaussian) read noise.                \n",
    "'''\n",
    "header = fits.Header.fromstring(header_str, sep='\\n')\n",
    "test_ccd_02 = CCDData(data=test_data_02, header=header, unit='adu')"
   ]
  },
  {
   "cell_type": "code",
   "execution_count": 15,
   "metadata": {},
   "outputs": [
    {
     "data": {
      "text/plain": [
       "OBJECT  = 'dark    '                                                            \n",
       "GAIN    =    1.360000014305115 / [e-/ADU] The electron gain factor.             \n",
       "RDNOISE =                  9.0 / [e-] The (Gaussian) read noise.                "
      ]
     },
     "execution_count": 15,
     "metadata": {},
     "output_type": "execute_result"
    }
   ],
   "source": [
    "test_ccd_02.header"
   ]
  },
  {
   "cell_type": "code",
   "execution_count": 16,
   "metadata": {},
   "outputs": [],
   "source": [
    "test_ccd_02.write(\"test2.fits\", overwrite=True)\n",
    "test_ccd_02_read = CCDData.read(\"test2.fits\")"
   ]
  },
  {
   "cell_type": "code",
   "execution_count": 17,
   "metadata": {},
   "outputs": [
    {
     "data": {
      "text/plain": [
       "SIMPLE  =                    T / conforms to FITS standard                      \n",
       "BITPIX  =                  -64 / array data type                                \n",
       "NAXIS   =                    2 / number of array dimensions                     \n",
       "NAXIS1  =                   20                                                  \n",
       "NAXIS2  =                   10                                                  \n",
       "OBJECT  = 'dark    '                                                            \n",
       "GAIN    =    1.360000014305115 / [e-/ADU] The electron gain factor.             \n",
       "RDNOISE =                  9.0 / [e-] The (Gaussian) read noise.                \n",
       "BUNIT   = 'adu     '                                                            "
      ]
     },
     "execution_count": 17,
     "metadata": {},
     "output_type": "execute_result"
    }
   ],
   "source": [
    "test_ccd_02_read.header"
   ]
  },
  {
   "cell_type": "markdown",
   "metadata": {},
   "source": [
    "There are other similar methods, ``.fromtextfile()`` (when you have header in text file) and ``fromkeys()`` (when you have header in something like ``dict``). See above ``Header`` doc."
   ]
  },
  {
   "attachments": {},
   "cell_type": "markdown",
   "metadata": {},
   "source": [
    "#### Setting \n",
    "There are many ways to set header keyword, value and comment, once a ``Header`` object is given.\n",
    "\n",
    "1. Using ``header[<key>] = <value>``.\n",
    "2. Using ``header[<key>] = (<value>, <comment>)``.\n",
    "3. Using ``header.set(<key>, <value>, [<comment>])``.\n",
    "4. Using ``header.add_comment(<comment_message>)``.\n",
    "5. Using ``header.add_history(<history>)``.\n",
    "\n",
    "The ``add_comment`` is to add the key ``COMMENT``. ``COMMENT`` is to put information such as reference, explanation, etc, which are not very important to be included as the key-value pair. \n",
    "\n",
    "The ``add_history`` is to add the key ``HISTORY``. ``HISTORY`` is to put information such as what is done at when.\n",
    "\n",
    "Both ``COMMENT`` and ``HISTORY`` will appear at the end of the header, no matter at which time you added these."
   ]
  },
  {
   "cell_type": "code",
   "execution_count": 18,
   "metadata": {},
   "outputs": [],
   "source": [
    "header = fits.Header.fromstring('')  # empty header\n",
    "\n",
    "# 1) Basic setting\n",
    "header[\"object\"] = 'dark'  # header key will automatically be capitalized\n",
    "\n",
    "# 2) With comment\n",
    "header[\"GAIN\"] = (1.36, \"[e-/ADU] The electron gain factor.\")\n",
    "\n",
    "# 3) Using .set()\n",
    "header.set(\"RDNOISE\", 9.0, \"[e-] The (Gaussian) read noise.\")\n",
    "header.set(\"RDNOISE\", 10.0, \"[e-] The (Gaussian) read noise. Oops, I am adding it again! What will happen?\")\n",
    "\n",
    "# 4) Adding COMMENT line\n",
    "header.add_comment(\"This is a testing fits file.\")\n",
    "header.add_comment(\"This is the second comment.\")\n",
    "header.add_comment(\"What if the comment is too long? \"*6)\n",
    "\n",
    "# 5) Adding HISTORY line\n",
    "header.add_history(\"Bias subtracted 2019-01-01T00:00:01\")\n",
    "header.add_history(\"Dark corrected 2019-01-01T00:00:02\")\n",
    "header.add_history(\"Flat corrected 2019-01-01T00:00:03\")\n",
    "header.add_history(\"Cosmic ray rejected 2019-01-01T00:00:04\")\n",
    "header.add_history(\"WCS added 2019-01-01T00:00:06\")\n",
    "\n",
    "test_ccd_03 = CCDData(data=test_data_02, header=header, unit='adu')"
   ]
  },
  {
   "cell_type": "code",
   "execution_count": 19,
   "metadata": {},
   "outputs": [
    {
     "name": "stderr",
     "output_type": "stream",
     "text": [
      "WARNING: VerifyWarning: Card is too long, comment will be truncated. [astropy.io.fits.card]\n"
     ]
    },
    {
     "data": {
      "text/plain": [
       "OBJECT  = 'dark    '                                                            \n",
       "GAIN    =                 1.36 / [e-/ADU] The electron gain factor.             \n",
       "RDNOISE =                 10.0 / [e-] The (Gaussian) read noise. Oops, I am addi\n",
       "COMMENT This is a testing fits file.                                            \n",
       "COMMENT This is the second comment.                                             \n",
       "COMMENT What if the comment is too long? What if the comment is too long? What i\n",
       "COMMENT f the comment is too long? What if the comment is too long? What if the \n",
       "COMMENT comment is too long? What if the comment is too long?                   \n",
       "HISTORY Bias subtracted 2019-01-01T00:00:01                                     \n",
       "HISTORY Dark corrected 2019-01-01T00:00:02                                      \n",
       "HISTORY Flat corrected 2019-01-01T00:00:03                                      \n",
       "HISTORY Cosmic ray rejected 2019-01-01T00:00:04                                 \n",
       "HISTORY WCS added 2019-01-01T00:00:06                                           "
      ]
     },
     "execution_count": 19,
     "metadata": {},
     "output_type": "execute_result"
    }
   ],
   "source": [
    "test_ccd_03.header"
   ]
  },
  {
   "cell_type": "markdown",
   "metadata": {},
   "source": [
    "From the result in ``RDNOISE``, you can see the header is *overwritten* by the newer value and comment. Also, if the comment is too long, the comment will be truncated as the ``WARNING`` message says.\n",
    "\n",
    "From the long comment in ``COMMENT``, you can see the linebreak occurs when it's too long."
   ]
  },
  {
   "cell_type": "code",
   "execution_count": 20,
   "metadata": {},
   "outputs": [],
   "source": [
    "test_ccd_03.write(\"test3.fits\", overwrite=True)\n",
    "test_ccd_03_read = CCDData.read(\"test3.fits\")"
   ]
  },
  {
   "cell_type": "code",
   "execution_count": 21,
   "metadata": {},
   "outputs": [
    {
     "data": {
      "text/plain": [
       "SIMPLE  =                    T / conforms to FITS standard                      \n",
       "BITPIX  =                  -64 / array data type                                \n",
       "NAXIS   =                    2 / number of array dimensions                     \n",
       "NAXIS1  =                   20                                                  \n",
       "NAXIS2  =                   10                                                  \n",
       "OBJECT  = 'dark    '                                                            \n",
       "GAIN    =                 1.36 / [e-/ADU] The electron gain factor.             \n",
       "RDNOISE =                 10.0 / [e-] The (Gaussian) read noise. Oops, I am addi\n",
       "BUNIT   = 'adu     '                                                            \n",
       "COMMENT This is a testing fits file.                                            \n",
       "COMMENT This is the second comment.                                             \n",
       "COMMENT What if the comment is too long? What if the comment is too long? What i\n",
       "COMMENT f the comment is too long? What if the comment is too long? What if the \n",
       "COMMENT comment is too long? What if the comment is too long?                   \n",
       "HISTORY Bias subtracted 2019-01-01T00:00:01                                     \n",
       "HISTORY Dark corrected 2019-01-01T00:00:02                                      \n",
       "HISTORY Flat corrected 2019-01-01T00:00:03                                      \n",
       "HISTORY Cosmic ray rejected 2019-01-01T00:00:04                                 \n",
       "HISTORY WCS added 2019-01-01T00:00:06                                           "
      ]
     },
     "execution_count": 21,
     "metadata": {},
     "output_type": "execute_result"
    }
   ],
   "source": [
    "test_ccd_03_read.header"
   ]
  },
  {
   "attachments": {},
   "cell_type": "markdown",
   "metadata": {},
   "source": [
    "### Making/Reading MEF (optional)\n",
    "If you are not advanced FITS user, it's generally better **NOT** to think about **making** MEF. It's better to stick to single-extension FITS format. \n",
    "\n",
    "But for many cases, e.g., HST images, may contain MEF, because there are clear reasons. Thus, I add how to deal with MEF here."
   ]
  },
  {
   "cell_type": "code",
   "execution_count": 22,
   "metadata": {},
   "outputs": [],
   "source": [
    "prim = fits.PrimaryHDU(data=None, header=header)\n",
    "im1 = fits.ImageHDU(data=np.ones((10, 10)), header=None, name=\"SCI\")\n",
    "im2 = fits.ImageHDU(data=np.zeros((10, 10)), header=None, name=\"UNCERT\")\n",
    "hdul_mef = fits.HDUList([prim, im1, im2])\n",
    "hdul_mef.writeto(\"test_mef.fits\", overwrite=True, output_verify='fix')"
   ]
  },
  {
   "cell_type": "code",
   "execution_count": 23,
   "metadata": {},
   "outputs": [
    {
     "name": "stdout",
     "output_type": "stream",
     "text": [
      "Filename: test_mef.fits\n",
      "No.    Name      Ver    Type      Cards   Dimensions   Format\n",
      "  0  PRIMARY       1 PrimaryHDU      17   ()      \n",
      "  1  SCI           1 ImageHDU         8   (10, 10)   float64   \n",
      "  2  UNCERT        1 ImageHDU         8   (10, 10)   float64   \n",
      "None\n"
     ]
    }
   ],
   "source": [
    "hdul_mef_read = fits.open(\"test_mef.fits\")\n",
    "print(hdul_mef_read.info())"
   ]
  },
  {
   "cell_type": "markdown",
   "metadata": {},
   "source": [
    "Each extension can be accessed by either (1) index (``No.``) or (2) ``Name``."
   ]
  },
  {
   "cell_type": "code",
   "execution_count": 24,
   "metadata": {},
   "outputs": [],
   "source": [
    "np.testing.assert_allclose(hdul_mef_read[1].data, hdul_mef_read[\"SCI\"].data)"
   ]
  },
  {
   "cell_type": "markdown",
   "metadata": {},
   "source": [
    "The ``getdata()`` or ``getheader()``, etc, has ``ext`` and ``extname`` to select only one extension:"
   ]
  },
  {
   "cell_type": "code",
   "execution_count": 25,
   "metadata": {},
   "outputs": [],
   "source": [
    "hdul_mef_data_1 = fits.getdata(\"test_mef.fits\", ext=1)\n",
    "hdul_mef_data_2 = fits.getdata(\"test_mef.fits\", extname=\"UNCERT\")\n",
    "np.testing.assert_allclose(hdul_mef_data_1, hdul_mef_data_1 - hdul_mef_data_2)"
   ]
  },
  {
   "cell_type": "markdown",
   "metadata": {},
   "source": [
    "Note that, ``CCDData`` understands any extension named ``'UNCERT'`` as the standard deviation uncertainty map (or simple 1-sigma error map), and reads it as ``astropy.nddata.nduncertainty.StdDevUncertainty``. Similarly, ``'MASK'`` is understood as mask. This is a reason why HST uses MEF than single-extension.\n",
    "\n",
    "You can see this in our example:"
   ]
  },
  {
   "cell_type": "code",
   "execution_count": 26,
   "metadata": {},
   "outputs": [
    {
     "name": "stdout",
     "output_type": "stream",
     "text": [
      "INFO: first HDU with data is extension 1. [astropy.nddata.ccddata]\n"
     ]
    }
   ],
   "source": [
    "test_ccd_mef_read = CCDData.read(\"test_mef.fits\", unit='adu')"
   ]
  },
  {
   "cell_type": "code",
   "execution_count": 27,
   "metadata": {},
   "outputs": [
    {
     "data": {
      "text/plain": [
       "array([[1., 1., 1., 1., 1., 1., 1., 1., 1., 1.],\n",
       "       [1., 1., 1., 1., 1., 1., 1., 1., 1., 1.],\n",
       "       [1., 1., 1., 1., 1., 1., 1., 1., 1., 1.],\n",
       "       [1., 1., 1., 1., 1., 1., 1., 1., 1., 1.],\n",
       "       [1., 1., 1., 1., 1., 1., 1., 1., 1., 1.],\n",
       "       [1., 1., 1., 1., 1., 1., 1., 1., 1., 1.],\n",
       "       [1., 1., 1., 1., 1., 1., 1., 1., 1., 1.],\n",
       "       [1., 1., 1., 1., 1., 1., 1., 1., 1., 1.],\n",
       "       [1., 1., 1., 1., 1., 1., 1., 1., 1., 1.],\n",
       "       [1., 1., 1., 1., 1., 1., 1., 1., 1., 1.]])"
      ]
     },
     "execution_count": 27,
     "metadata": {},
     "output_type": "execute_result"
    }
   ],
   "source": [
    "test_ccd_mef_read.data"
   ]
  },
  {
   "cell_type": "code",
   "execution_count": 28,
   "metadata": {},
   "outputs": [
    {
     "name": "stdout",
     "output_type": "stream",
     "text": [
      "<class 'astropy.nddata.nduncertainty.StdDevUncertainty'>\n"
     ]
    },
    {
     "data": {
      "text/plain": [
       "StdDevUncertainty([[0., 0., 0., 0., 0., 0., 0., 0., 0., 0.],\n",
       "                   [0., 0., 0., 0., 0., 0., 0., 0., 0., 0.],\n",
       "                   [0., 0., 0., 0., 0., 0., 0., 0., 0., 0.],\n",
       "                   [0., 0., 0., 0., 0., 0., 0., 0., 0., 0.],\n",
       "                   [0., 0., 0., 0., 0., 0., 0., 0., 0., 0.],\n",
       "                   [0., 0., 0., 0., 0., 0., 0., 0., 0., 0.],\n",
       "                   [0., 0., 0., 0., 0., 0., 0., 0., 0., 0.],\n",
       "                   [0., 0., 0., 0., 0., 0., 0., 0., 0., 0.],\n",
       "                   [0., 0., 0., 0., 0., 0., 0., 0., 0., 0.],\n",
       "                   [0., 0., 0., 0., 0., 0., 0., 0., 0., 0.]])"
      ]
     },
     "execution_count": 28,
     "metadata": {},
     "output_type": "execute_result"
    }
   ],
   "source": [
    "print(type(test_ccd_mef_read.uncertainty))\n",
    "test_ccd_mef_read.uncertainty"
   ]
  },
  {
   "cell_type": "code",
   "execution_count": 29,
   "metadata": {},
   "outputs": [],
   "source": [
    "tmpfitsfiles = Path('.').glob(\"test*.fits\")\n",
    "for fpath in tmpfitsfiles:\n",
    "    fpath.unlink()"
   ]
  }
 ],
 "metadata": {
  "kernelspec": {
   "display_name": "Python 3",
   "language": "python",
   "name": "python3"
  },
  "language_info": {
   "codemirror_mode": {
    "name": "ipython",
    "version": 3
   },
   "file_extension": ".py",
   "mimetype": "text/x-python",
   "name": "python",
   "nbconvert_exporter": "python",
   "pygments_lexer": "ipython3",
   "version": "3.7.3"
  },
  "varInspector": {
   "cols": {
    "lenName": 16,
    "lenType": 16,
    "lenVar": 40
   },
   "kernels_config": {
    "python": {
     "delete_cmd_postfix": "",
     "delete_cmd_prefix": "del ",
     "library": "var_list.py",
     "varRefreshCmd": "print(var_dic_list())"
    },
    "r": {
     "delete_cmd_postfix": ") ",
     "delete_cmd_prefix": "rm(",
     "library": "var_list.r",
     "varRefreshCmd": "cat(var_dic_list()) "
    }
   },
   "types_to_exclude": [
    "module",
    "function",
    "builtin_function_or_method",
    "instance",
    "_Feature"
   ],
   "window_display": false
  }
 },
 "nbformat": 4,
 "nbformat_minor": 2
}
