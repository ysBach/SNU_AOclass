{
 "cells": [
  {
   "attachments": {},
   "cell_type": "markdown",
   "metadata": {},
   "source": [
    "(00:numpy_tutorial)=\n",
    "# Numpy Tutorial"
   ]
  },
  {
   "attachments": {},
   "cell_type": "markdown",
   "metadata": {},
   "source": [
    "## Numpy Array"
   ]
  },
  {
   "cell_type": "markdown",
   "metadata": {},
   "source": [
    "Numpy array has its own \"axis\" system."
   ]
  },
  {
   "cell_type": "markdown",
   "metadata": {},
   "source": [
    "![](http://www.johncanessa.com/wp-content/uploads/2019/02/numpy_broadcasting-300x168.png)"
   ]
  },
  {
   "cell_type": "code",
   "execution_count": 2,
   "metadata": {},
   "outputs": [],
   "source": [
    "import numpy as np\n",
    "from matplotlib import pyplot as plt\n",
    "plt.style.use('default')"
   ]
  },
  {
   "attachments": {},
   "cell_type": "markdown",
   "metadata": {},
   "source": [
    "### Array\n",
    "\n",
    "Useful attributes:\n",
    "* ``.dtype``: The data type\n",
    "* ``.shape``: The shape of the array in `tuple` (order is `(axis0, axis1, ...)`)\n",
    "* ``.ndim``: The dimensionality of the array (equal to ``len(arr.shape)``)\n",
    "* ``.size``: The total size of the array ($\\prod_{i=0}^{\\mathtt{array.ndim - 1}} \\mathtt{array.shape[i]}$)\n"
   ]
  },
  {
   "cell_type": "code",
   "execution_count": 12,
   "metadata": {},
   "outputs": [
    {
     "name": "stdout",
     "output_type": "stream",
     "text": [
      "arr1       = array([1., 2., 3.])\n",
      "type(arr1) = <class 'numpy.ndarray'>\n",
      "arr1.dtype = dtype('float64')\n"
     ]
    }
   ],
   "source": [
    "arr1 = np.array([1, 2, 3.])\n",
    "print(f\"{arr1       = }\")\n",
    "print(f\"{type(arr1) = }\")\n",
    "print(f\"{arr1.dtype = }\")"
   ]
  },
  {
   "cell_type": "code",
   "execution_count": 14,
   "metadata": {},
   "outputs": [
    {
     "name": "stdout",
     "output_type": "stream",
     "text": [
      "arr1.shape = (3,)\n",
      "arr1.size  = 3\n",
      "arr1.ndim  = 1\n"
     ]
    }
   ],
   "source": [
    "print(f\"{arr1.shape = }\")\n",
    "print(f\"{arr1.size  = }\")\n",
    "print(f\"{arr1.ndim  = }\")"
   ]
  },
  {
   "cell_type": "code",
   "execution_count": 18,
   "metadata": {},
   "outputs": [
    {
     "name": "stdout",
     "output_type": "stream",
     "text": [
      "arr2       = array([[1, 2, 3],\n",
      "       [4, 5, 6]])\n",
      "type(arr2) = <class 'numpy.ndarray'>\n",
      "arr2.dtype = dtype('int64')\n"
     ]
    }
   ],
   "source": [
    "arr2 = np.array([[1, 2, 3], [4, 5, 6]])\n",
    "print(f\"{arr2       = }\")\n",
    "print(f\"{type(arr2) = }\")\n",
    "print(f\"{arr2.dtype = }\")"
   ]
  },
  {
   "cell_type": "code",
   "execution_count": 20,
   "metadata": {},
   "outputs": [
    {
     "name": "stdout",
     "output_type": "stream",
     "text": [
      "arr2.shape = (2, 3)\n",
      "arr2.size  = 6\n",
      "arr2.ndim  = 2\n"
     ]
    }
   ],
   "source": [
    "print(f\"{arr2.shape = }\")\n",
    "print(f\"{arr2.size  = }\")\n",
    "print(f\"{arr2.ndim  = }\")"
   ]
  },
  {
   "attachments": {},
   "cell_type": "markdown",
   "metadata": {},
   "source": [
    "### Array Generation "
   ]
  },
  {
   "attachments": {},
   "cell_type": "markdown",
   "metadata": {},
   "source": [
    "#### ``arange``\n",
    "\n",
    "* [``arange``](https://docs.scipy.org/doc/numpy/reference/generated/numpy.arange.html): ``np.arange([start, ]stop, [step, ]dtype=None)``"
   ]
  },
  {
   "cell_type": "code",
   "execution_count": 6,
   "metadata": {},
   "outputs": [
    {
     "name": "stdout",
     "output_type": "stream",
     "text": [
      "[0 1 2 3 4 5 6 7 8 9]\n"
     ]
    }
   ],
   "source": [
    "print(np.arange(10))"
   ]
  },
  {
   "cell_type": "code",
   "execution_count": 21,
   "metadata": {},
   "outputs": [
    {
     "name": "stdout",
     "output_type": "stream",
     "text": [
      "[0. 1. 2. 3. 4. 5. 6. 7. 8. 9.]\n"
     ]
    }
   ],
   "source": [
    "# Use the `float` input argument to make the output array as `float`:\n",
    "print(np.arange(10.)) "
   ]
  },
  {
   "cell_type": "code",
   "execution_count": 8,
   "metadata": {},
   "outputs": [
    {
     "name": "stdout",
     "output_type": "stream",
     "text": [
      "[10 15 20 25 30 35 40 45 50 55 60 65 70 75 80 85 90 95]\n"
     ]
    }
   ],
   "source": [
    "print(np.arange(10, 100, 5))"
   ]
  },
  {
   "cell_type": "code",
   "execution_count": 9,
   "metadata": {},
   "outputs": [
    {
     "name": "stdout",
     "output_type": "stream",
     "text": [
      "[10. 35. 60. 85.]\n"
     ]
    }
   ],
   "source": [
    "print(np.arange(10, 100, 25, dtype='float'))"
   ]
  },
  {
   "cell_type": "code",
   "execution_count": 10,
   "metadata": {},
   "outputs": [
    {
     "name": "stdout",
     "output_type": "stream",
     "text": [
      "[10. 35. 60. 85.]\n"
     ]
    }
   ],
   "source": [
    "print(np.arange(10, 100, 25, dtype=np.float128))"
   ]
  },
  {
   "cell_type": "code",
   "execution_count": 11,
   "metadata": {},
   "outputs": [
    {
     "name": "stdout",
     "output_type": "stream",
     "text": [
      "[10. 35. 60. 85.]\n"
     ]
    }
   ],
   "source": [
    "print(np.arange(10, 100, 25, dtype='float32'))"
   ]
  },
  {
   "cell_type": "markdown",
   "metadata": {},
   "source": [
    "**CAVEAT for ``arange``**\n",
    "\n",
    "Numerical precision issue gives this problem (see [this issue](https://github.com/numpy/numpy/issues/11913)):"
   ]
  },
  {
   "cell_type": "code",
   "execution_count": 22,
   "metadata": {},
   "outputs": [
    {
     "data": {
      "text/plain": [
       "array([1. , 1.1, 1.2, 1.3, 1.4, 1.5, 1.6])"
      ]
     },
     "execution_count": 22,
     "metadata": {},
     "output_type": "execute_result"
    }
   ],
   "source": [
    "np.arange(1, 1.6, 0.1)\n",
    "# You would expect it ends with 1.5, but actually 1.6 is in this array!!!\n",
    "# WTF!? See the link above."
   ]
  },
  {
   "attachments": {},
   "cell_type": "markdown",
   "metadata": {},
   "source": [
    "#### ``linspace``\n",
    "* [``linspace``](https://docs.scipy.org/doc/numpy/reference/generated/numpy.linspace.html): ``np.linspace(start, stop, num=50, endpoint=True, retstep=False, dtype=None, axis=0)``"
   ]
  },
  {
   "cell_type": "code",
   "execution_count": 23,
   "metadata": {},
   "outputs": [
    {
     "data": {
      "text/plain": [
       "array([ 0. ,  2.5,  5. ,  7.5, 10. ])"
      ]
     },
     "execution_count": 23,
     "metadata": {},
     "output_type": "execute_result"
    }
   ],
   "source": [
    "# Frequent usage is just ``np.linspace(start, stop, num)``\n",
    "np.linspace(0, 10, num=5, endpoint=True)"
   ]
  },
  {
   "attachments": {},
   "cell_type": "markdown",
   "metadata": {},
   "source": [
    "#### ``logspace``\n",
    "* [``logspace``](https://docs.scipy.org/doc/numpy/reference/generated/numpy.logspace.html): ``np.logspace(start, stop, num=50, endpoint=True, base=10.0, dtype=None, axis=0)``"
   ]
  },
  {
   "cell_type": "code",
   "execution_count": 25,
   "metadata": {},
   "outputs": [
    {
     "data": {
      "text/plain": [
       "array([ 1.        ,  1.77827941,  3.16227766,  5.62341325, 10.        ])"
      ]
     },
     "execution_count": 25,
     "metadata": {},
     "output_type": "execute_result"
    }
   ],
   "source": [
    "# Frequent usage is just ``np.logspace(start, stop, num)``\n",
    "np.logspace(0, 1, num=5, endpoint=True)"
   ]
  },
  {
   "cell_type": "markdown",
   "metadata": {},
   "source": [
    "Identical to ``10**(np.logspace(0, 2))``:"
   ]
  },
  {
   "cell_type": "code",
   "execution_count": 15,
   "metadata": {},
   "outputs": [],
   "source": [
    "np.testing.assert_allclose(np.logspace(0, 2), 10**(np.linspace(0, 2)))"
   ]
  },
  {
   "attachments": {},
   "cell_type": "markdown",
   "metadata": {},
   "source": [
    "### More About Array Generation"
   ]
  },
  {
   "attachments": {},
   "cell_type": "markdown",
   "metadata": {},
   "source": [
    "#### Random Number\n",
    "\n",
    "For random number generation, we need the initial \"starting point\" to make a series of \"random number\".\n",
    "\n",
    "If other person used identical seed value, they'll reproduce your \"random number\" result. One of my friends said \"random number is so fun; it's random but not random.\""
   ]
  },
  {
   "cell_type": "code",
   "execution_count": 26,
   "metadata": {},
   "outputs": [],
   "source": [
    "rand = np.random.RandomState(12345)"
   ]
  },
  {
   "cell_type": "code",
   "execution_count": 28,
   "metadata": {},
   "outputs": [
    {
     "name": "stdout",
     "output_type": "stream",
     "text": [
      "[-0.20470766  0.47894334 -0.51943872 -0.5557303   1.96578057]\n"
     ]
    }
   ],
   "source": [
    "arr_norm_1d = rand.normal(loc=0, scale=1, size=5)\n",
    "print(arr_norm_1d)"
   ]
  },
  {
   "cell_type": "code",
   "execution_count": 30,
   "metadata": {},
   "outputs": [
    {
     "name": "stdout",
     "output_type": "stream",
     "text": [
      "[[-0.71354399 -0.83115354 -2.37023165]\n",
      " [-1.86076079 -0.8607574   0.56014529]\n",
      " [-1.26593449  0.11982712 -1.06351245]]\n"
     ]
    }
   ],
   "source": [
    "arr_norm_2d = rand.normal(loc=0, scale=1, size=(3, 3))\n",
    "print(arr_norm_2d)"
   ]
  },
  {
   "cell_type": "markdown",
   "metadata": {},
   "source": [
    "Check whether it's really normally distributed when sampled many:"
   ]
  },
  {
   "cell_type": "code",
   "execution_count": 41,
   "metadata": {},
   "outputs": [
    {
     "data": {
      "text/plain": [
       "<matplotlib.legend.Legend at 0x13c482110>"
      ]
     },
     "execution_count": 41,
     "metadata": {},
     "output_type": "execute_result"
    },
    {
     "data": {
      "image/png": "[encoded data removed]",
      "text/plain": [
       "<Figure size 640x480 with 1 Axes>"
      ]
     },
     "metadata": {},
     "output_type": "display_data"
    }
   ],
   "source": [
    "xx = np.linspace(-4, 4, 100)\n",
    "plt.plot(xx, 1/np.sqrt(2*np.pi*1)*np.exp(-xx**2/2), \n",
    "         lw=4, alpha=0.5, label='True Gaussian')\n",
    "for i in range(3):\n",
    "    arr_norm_1d = rand.normal(size=50000)\n",
    "    _ = plt.hist(arr_norm_1d, 100, histtype='step', density=True, label=f\"Trial {i+1}\")\n",
    "\n",
    "plt.legend()"
   ]
  },
  {
   "attachments": {},
   "cell_type": "markdown",
   "metadata": {},
   "source": [
    "Many other distributions are also available ([here](https://docs.scipy.org/doc/numpy-1.15.0/reference/routines.random.html))."
   ]
  },
  {
   "attachments": {},
   "cell_type": "markdown",
   "metadata": {},
   "source": [
    "#### Reshaping"
   ]
  },
  {
   "cell_type": "code",
   "execution_count": 42,
   "metadata": {
    "scrolled": true
   },
   "outputs": [
    {
     "name": "stdout",
     "output_type": "stream",
     "text": [
      "original\n",
      " [0 1 2 3 4 5 6 7 8 9]\n",
      "\n",
      "reshaped\n",
      " [[0 1 2 3 4]\n",
      " [5 6 7 8 9]]\n",
      "\n",
      "reshaped's shape\n",
      " (2, 5)\n"
     ]
    }
   ],
   "source": [
    "arr_orig = np.arange(10)\n",
    "arr_resh = arr_orig.reshape(2, 5)\n",
    "print(\"original\\n\", arr_orig)\n",
    "print(\"\\nreshaped\\n\", arr_resh)\n",
    "print(\"\\nreshaped's shape\\n\", arr_resh.shape)"
   ]
  },
  {
   "attachments": {},
   "cell_type": "markdown",
   "metadata": {},
   "source": [
    "#### One, Zero, Empty, and Identity"
   ]
  },
  {
   "cell_type": "code",
   "execution_count": 43,
   "metadata": {},
   "outputs": [
    {
     "name": "stdout",
     "output_type": "stream",
     "text": [
      "Ones\n",
      " [[1. 1. 1.]\n",
      " [1. 1. 1.]\n",
      " [1. 1. 1.]]\n",
      "\n",
      "Zeros\n",
      " [[0. 0. 0.]\n",
      " [0. 0. 0.]\n",
      " [0. 0. 0.]]\n",
      "\n",
      "Empty\n",
      " [[20.  0. -0.]\n",
      " [ 0.  7. -0.]\n",
      " [ 0.  0.  1.]]\n",
      "\n",
      "Identity\n",
      " [[1. 0. 0.]\n",
      " [0. 1. 0.]\n",
      " [0. 0. 1.]]\n"
     ]
    }
   ],
   "source": [
    "reference = np.arange(9).reshape(3, 3)\n",
    "ones = np.ones((3, 3))\n",
    "zeros = np.zeros((3, 3))\n",
    "emptys = np.empty((3, 3))\n",
    "identity = np.eye(3)\n",
    "\n",
    "print(\"Ones\\n\", ones)\n",
    "print(\"\\nZeros\\n\", zeros)\n",
    "print(\"\\nEmpty\\n\", emptys)\n",
    "print(\"\\nIdentity\\n\", identity)"
   ]
  },
  {
   "cell_type": "markdown",
   "metadata": {},
   "source": [
    "``np.empty`` is not recommended (I couldn't have found when it's really necessary to use against zeros or ones), because it sometimes fills all element with **garbage** values like ``1.5e-323`` or ``1``.\n",
    "\n",
    "Another usage is ``xxxx_like``:"
   ]
  },
  {
   "cell_type": "code",
   "execution_count": 22,
   "metadata": {},
   "outputs": [
    {
     "name": "stdout",
     "output_type": "stream",
     "text": [
      "Ones_like\n",
      " [[1. 1. 1.]\n",
      " [1. 1. 1.]\n",
      " [1. 1. 1.]]\n",
      "\n",
      "Zeros_like\n",
      " [[0. 0. 0.]\n",
      " [0. 0. 0.]\n",
      " [0. 0. 0.]]\n",
      "\n",
      "Empty_like\n",
      " [[ 1.  0.  0.]\n",
      " [ 0. -1.  0.]\n",
      " [ 0.  0.  1.]]\n"
     ]
    }
   ],
   "source": [
    "reference = np.arange(9).reshape(3, 3)\n",
    "ones_like = np.ones_like(reference)\n",
    "# np.ones(reference.shape)\n",
    "zeros_like = np.zeros_like(reference)\n",
    "emptys_like = np.empty_like((3, 3))\n",
    "\n",
    "print(\"Ones_like\\n\", ones)\n",
    "print(\"\\nZeros_like\\n\", zeros)\n",
    "print(\"\\nEmpty_like\\n\", emptys)"
   ]
  },
  {
   "attachments": {},
   "cell_type": "markdown",
   "metadata": {},
   "source": [
    "### Array Indexing\n",
    "Similar to usual python"
   ]
  },
  {
   "cell_type": "code",
   "execution_count": 23,
   "metadata": {},
   "outputs": [
    {
     "name": "stdout",
     "output_type": "stream",
     "text": [
      "[0 1 2 3 4]\n",
      "[0 1 2 3 4]\n"
     ]
    }
   ],
   "source": [
    "a1 = np.arange(10).reshape(2, 5)\n",
    "print(a1[0]) # equivalent to a1[0, :], NOT a1[:, 0]\n",
    "print(a1[0, :])"
   ]
  },
  {
   "cell_type": "code",
   "execution_count": 24,
   "metadata": {},
   "outputs": [
    {
     "name": "stdout",
     "output_type": "stream",
     "text": [
      "[1 2]\n",
      "[0 2 4]\n"
     ]
    }
   ],
   "source": [
    "print(a1[0, 1:3])\n",
    "print(a1[0, ::2])  # double colon means \"every other x elements\""
   ]
  },
  {
   "cell_type": "code",
   "execution_count": 25,
   "metadata": {},
   "outputs": [
    {
     "name": "stdout",
     "output_type": "stream",
     "text": [
      "[5 6 7 8 9]\n"
     ]
    }
   ],
   "source": [
    "print(a1[-1, :])"
   ]
  },
  {
   "cell_type": "code",
   "execution_count": 26,
   "metadata": {},
   "outputs": [
    {
     "name": "stdout",
     "output_type": "stream",
     "text": [
      "[[-111    1    2    3    4]\n",
      " [   5    6    7    8    9]]\n"
     ]
    }
   ],
   "source": [
    "a1[0, 0] = -111\n",
    "print(a1)"
   ]
  },
  {
   "attachments": {},
   "cell_type": "markdown",
   "metadata": {},
   "source": [
    "Use ``[::-1]`` to \"reverse\" the array/list:"
   ]
  },
  {
   "cell_type": "code",
   "execution_count": 27,
   "metadata": {},
   "outputs": [
    {
     "name": "stdout",
     "output_type": "stream",
     "text": [
      "a1[::-1]\n",
      "[[   5    6    7    8    9]\n",
      " [-111    1    2    3    4]]\n",
      "\n",
      "a1[:, ::-1]\n",
      "[[   4    3    2    1 -111]\n",
      " [   9    8    7    6    5]]\n"
     ]
    }
   ],
   "source": [
    "print(\"a1[::-1]\")\n",
    "print(a1[::-1])\n",
    "print(\"\\na1[:, ::-1]\")\n",
    "print(a1[:, ::-1])"
   ]
  },
  {
   "cell_type": "code",
   "execution_count": 28,
   "metadata": {},
   "outputs": [
    {
     "name": "stdout",
     "output_type": "stream",
     "text": [
      "[-111    1    2    3    4    5    6    7    8    9]\n"
     ]
    }
   ],
   "source": [
    "# N-D to 1-D\n",
    "print(a1.flatten())"
   ]
  },
  {
   "cell_type": "markdown",
   "metadata": {},
   "source": [
    "**When to use ``flatten()``?**\n",
    "\n",
    "An example is, when you have a lot of N-D data (e.g., 1000 x 1000 = 1,000,000 pixel image) but want just one single histogram (pixel value histogram).\n",
    "\n",
    "If you do not use ``flatten()``, it will take a lot of time and give strange results."
   ]
  },
  {
   "cell_type": "code",
   "execution_count": 44,
   "metadata": {},
   "outputs": [
    {
     "data": {
      "image/png": "[encoded data removed]",
      "text/plain": [
       "<Figure size 600x400 with 2 Axes>"
      ]
     },
     "metadata": {},
     "output_type": "display_data"
    }
   ],
   "source": [
    "rand = np.random.RandomState(12345)\n",
    "\n",
    "# Random number sampling from the standard normal distribution\n",
    "data = rand.normal(size=(1000, 1000))\n",
    "\n",
    "fig, axs = plt.subplots(1, 2, figsize=(6, 4))\n",
    "\n",
    "axs[0].imshow(data, origin='lower', aspect='auto')\n",
    "_ = axs[1].hist(data.flatten(), bins=100)\n",
    "\n",
    "plt.tight_layout()\n",
    "plt.show()"
   ]
  },
  {
   "attachments": {},
   "cell_type": "markdown",
   "metadata": {},
   "source": [
    "### Concatenation"
   ]
  },
  {
   "attachments": {},
   "cell_type": "markdown",
   "metadata": {},
   "source": [
    "Normally, there are not many use cases for concatenation (\"merging\") using numpy. This is because any experienced python users would first make `list` or `tuple` and then convert it to numpy at the last stage."
   ]
  },
  {
   "cell_type": "code",
   "execution_count": 30,
   "metadata": {},
   "outputs": [],
   "source": [
    "a = np.arange(10)\n",
    "b = np.linspace(20, 11, num=10)"
   ]
  },
  {
   "cell_type": "code",
   "execution_count": 31,
   "metadata": {},
   "outputs": [
    {
     "name": "stdout",
     "output_type": "stream",
     "text": [
      "[0 1 2 3 4 5 6 7 8 9] [20. 19. 18. 17. 16. 15. 14. 13. 12. 11.]\n"
     ]
    }
   ],
   "source": [
    "print(a, b)"
   ]
  },
  {
   "cell_type": "code",
   "execution_count": 32,
   "metadata": {},
   "outputs": [
    {
     "name": "stdout",
     "output_type": "stream",
     "text": [
      "concatenate\n",
      "[ 0.  1.  2.  3.  4.  5.  6.  7.  8.  9. 20. 19. 18. 17. 16. 15. 14. 13.\n",
      " 12. 11.]\n",
      "\n",
      "hstack\n",
      "[ 0.  1.  2.  3.  4.  5.  6.  7.  8.  9. 20. 19. 18. 17. 16. 15. 14. 13.\n",
      " 12. 11.]\n",
      "\n",
      "vstack\n",
      "[[ 0.  1.  2.  3.  4.  5.  6.  7.  8.  9.]\n",
      " [20. 19. 18. 17. 16. 15. 14. 13. 12. 11.]]\n"
     ]
    }
   ],
   "source": [
    "print(\"concatenate\")\n",
    "print(np.concatenate([a, b]))\n",
    "print(\"\\nhstack\")\n",
    "print(np.hstack([a, b]))\n",
    "print(\"\\nvstack\")\n",
    "print(np.vstack([a, b]))"
   ]
  },
  {
   "cell_type": "markdown",
   "metadata": {},
   "source": [
    "You can use ``axis`` option for ``concatenate``, but it may give ``AxisError`` if you do ``axis=1`` above to mimic ``vstack`` results. "
   ]
  },
  {
   "attachments": {},
   "cell_type": "markdown",
   "metadata": {},
   "source": [
    "## Array Arithmetics"
   ]
  },
  {
   "cell_type": "code",
   "execution_count": 48,
   "metadata": {},
   "outputs": [],
   "source": [
    "ref1 = np.arange(20).reshape(5, 4)\n",
    "ref2 = np.arange(-19, 1).reshape(5, 4)"
   ]
  },
  {
   "cell_type": "code",
   "execution_count": 49,
   "metadata": {},
   "outputs": [
    {
     "name": "stdout",
     "output_type": "stream",
     "text": [
      "[[ 0  1  2  3]\n",
      " [ 4  5  6  7]\n",
      " [ 8  9 10 11]\n",
      " [12 13 14 15]\n",
      " [16 17 18 19]]\n",
      "[[-19 -18 -17 -16]\n",
      " [-15 -14 -13 -12]\n",
      " [-11 -10  -9  -8]\n",
      " [ -7  -6  -5  -4]\n",
      " [ -3  -2  -1   0]]\n"
     ]
    }
   ],
   "source": [
    "print(ref1)\n",
    "print(ref2)"
   ]
  },
  {
   "attachments": {},
   "cell_type": "markdown",
   "metadata": {},
   "source": [
    "### Basic Arithmetics"
   ]
  },
  {
   "cell_type": "code",
   "execution_count": 50,
   "metadata": {},
   "outputs": [
    {
     "name": "stdout",
     "output_type": "stream",
     "text": [
      "[[ 0  2  4  6]\n",
      " [ 8 10 12 14]\n",
      " [16 18 20 22]\n",
      " [24 26 28 30]\n",
      " [32 34 36 38]]\n",
      "[[  0   1   4   9]\n",
      " [ 16  25  36  49]\n",
      " [ 64  81 100 121]\n",
      " [144 169 196 225]\n",
      " [256 289 324 361]]\n"
     ]
    }
   ],
   "source": [
    "print(2*ref1)\n",
    "print(ref1**2)"
   ]
  },
  {
   "cell_type": "code",
   "execution_count": 51,
   "metadata": {},
   "outputs": [
    {
     "name": "stdout",
     "output_type": "stream",
     "text": [
      "[[-19 -17 -15 -13]\n",
      " [-11  -9  -7  -5]\n",
      " [ -3  -1   1   3]\n",
      " [  5   7   9  11]\n",
      " [ 13  15  17  19]]\n"
     ]
    }
   ],
   "source": [
    "print(ref1 + ref2)"
   ]
  },
  {
   "cell_type": "code",
   "execution_count": 52,
   "metadata": {},
   "outputs": [
    {
     "name": "stdout",
     "output_type": "stream",
     "text": [
      "[[  0 -18 -34 -48]\n",
      " [-60 -70 -78 -84]\n",
      " [-88 -90 -90 -88]\n",
      " [-84 -78 -70 -60]\n",
      " [-48 -34 -18   0]]\n"
     ]
    }
   ],
   "source": [
    "print(ref1 * ref2)"
   ]
  },
  {
   "cell_type": "code",
   "execution_count": 53,
   "metadata": {},
   "outputs": [
    {
     "name": "stdout",
     "output_type": "stream",
     "text": [
      "[[ -0.          -0.05555556  -0.11764706  -0.1875    ]\n",
      " [ -0.26666667  -0.35714286  -0.46153846  -0.58333333]\n",
      " [ -0.72727273  -0.9         -1.11111111  -1.375     ]\n",
      " [ -1.71428571  -2.16666667  -2.8         -3.75      ]\n",
      " [ -5.33333333  -8.5        -18.                  inf]]\n"
     ]
    },
    {
     "name": "stderr",
     "output_type": "stream",
     "text": [
      "/var/folders/b1/mdnx6bfn6_v7p70xc3hpc9vh0000gn/T/ipykernel_61518/2058048057.py:1: RuntimeWarning: divide by zero encountered in divide\n",
      "  print(ref1/ref2)\n"
     ]
    }
   ],
   "source": [
    "print(ref1/ref2)"
   ]
  },
  {
   "cell_type": "markdown",
   "metadata": {},
   "source": [
    "Matrix multiplication by ``@``"
   ]
  },
  {
   "cell_type": "code",
   "execution_count": 54,
   "metadata": {},
   "outputs": [
    {
     "name": "stdout",
     "output_type": "stream",
     "text": [
      "[[ -100   -76   -52   -28    -4]\n",
      " [ -380  -292  -204  -116   -28]\n",
      " [ -660  -508  -356  -204   -52]\n",
      " [ -940  -724  -508  -292   -76]\n",
      " [-1220  -940  -660  -380  -100]]\n"
     ]
    }
   ],
   "source": [
    "print(ref1@ref2.T)  # .T to Transpose"
   ]
  },
  {
   "cell_type": "markdown",
   "metadata": {},
   "source": [
    "* **NOTE**: See what happens if you don't do ``.T`` to ``ref2``."
   ]
  },
  {
   "attachments": {},
   "cell_type": "markdown",
   "metadata": {},
   "source": [
    "### NaN and inf\n",
    "NaN (Not a Number) and inf (infinity) are two important and useful concepts in all numpy-related packages. When you do ``1 / 0``, it should give \"Error\", and all your program just break down. In numpy, ``RuntimeWarning`` is raised instead, and ``nan`` is used, so all the calculations are done correctly except it gives ``nan`` when there is any of those. This is useful because the code runs as expected (no need to struggle with avoiding Errors) and you can remove any results which contains ``nan`` at the final stage."
   ]
  },
  {
   "cell_type": "code",
   "execution_count": 61,
   "metadata": {},
   "outputs": [
    {
     "name": "stderr",
     "output_type": "stream",
     "text": [
      "/var/folders/b1/mdnx6bfn6_v7p70xc3hpc9vh0000gn/T/ipykernel_61518/4165815205.py:1: RuntimeWarning: divide by zero encountered in divide\n",
      "  ref1_ref2 = ref1/ref2\n"
     ]
    }
   ],
   "source": [
    "ref1_ref2 = ref1/ref2\n",
    "# RuntimeWarning will appear"
   ]
  },
  {
   "cell_type": "code",
   "execution_count": 62,
   "metadata": {},
   "outputs": [
    {
     "data": {
      "text/plain": [
       "array([[False, False, False, False],\n",
       "       [False, False, False, False],\n",
       "       [False, False, False, False],\n",
       "       [False, False, False, False],\n",
       "       [False, False, False,  True]])"
      ]
     },
     "execution_count": 62,
     "metadata": {},
     "output_type": "execute_result"
    }
   ],
   "source": [
    "np.isinf(ref1_ref2)"
   ]
  },
  {
   "cell_type": "code",
   "execution_count": 56,
   "metadata": {},
   "outputs": [
    {
     "name": "stderr",
     "output_type": "stream",
     "text": [
      "/var/folders/b1/mdnx6bfn6_v7p70xc3hpc9vh0000gn/T/ipykernel_61518/916304143.py:1: RuntimeWarning: invalid value encountered in log\n",
      "  np.isnan(np.log(-1))\n"
     ]
    },
    {
     "data": {
      "text/plain": [
       "True"
      ]
     },
     "execution_count": 56,
     "metadata": {},
     "output_type": "execute_result"
    }
   ],
   "source": [
    "np.isnan(np.log(-1))"
   ]
  },
  {
   "cell_type": "code",
   "execution_count": 63,
   "metadata": {},
   "outputs": [
    {
     "name": "stdout",
     "output_type": "stream",
     "text": [
      "[[False False False False]\n",
      " [False False False False]\n",
      " [False False False False]\n",
      " [False False False False]\n",
      " [False False False  True]]\n",
      "[[False False False False]\n",
      " [False False False False]\n",
      " [False False False False]\n",
      " [False False False False]\n",
      " [False False False False]]\n"
     ]
    }
   ],
   "source": [
    "isinf = (ref1_ref2 == np.inf)  # same as np.isinf(~~)\n",
    "isnan = (ref1_ref2 == np.nan)  # same as np.isnan(~~)\n",
    "print(isinf)\n",
    "print(isnan)"
   ]
  },
  {
   "cell_type": "markdown",
   "metadata": {},
   "source": [
    "To quickly chech how many nan or inf happened:"
   ]
  },
  {
   "cell_type": "code",
   "execution_count": 64,
   "metadata": {},
   "outputs": [
    {
     "name": "stdout",
     "output_type": "stream",
     "text": [
      "1\n"
     ]
    }
   ],
   "source": [
    "print(np.count_nonzero(np.isinf(ref1_ref2)))"
   ]
  },
  {
   "attachments": {},
   "cell_type": "markdown",
   "metadata": {},
   "source": [
    "### Axis Operation"
   ]
  },
  {
   "cell_type": "markdown",
   "metadata": {},
   "source": [
    "If you use numpy without utilizing axis, you are doing something wrong."
   ]
  },
  {
   "cell_type": "code",
   "execution_count": 44,
   "metadata": {},
   "outputs": [
    {
     "name": "stdout",
     "output_type": "stream",
     "text": [
      "Original\n",
      " [[ 0  1  2  3]\n",
      " [ 4  5  6  7]\n",
      " [ 8  9 10 11]\n",
      " [12 13 14 15]\n",
      " [16 17 18 19]]\n",
      "\n",
      "Sum all\n",
      " 190\n",
      "\n",
      "Sum axis0\n",
      " [40 45 50 55]\n",
      "\n",
      "Sum axis1\n",
      " [ 6 22 38 54 70]\n"
     ]
    }
   ],
   "source": [
    "print(\"Original\\n\", ref1)\n",
    "print(\"\\nSum all\\n\", ref1.sum())\n",
    "print(\"\\nSum axis0\\n\", ref1.sum(axis=0))\n",
    "print(\"\\nSum axis1\\n\", ref1.sum(axis=1))"
   ]
  },
  {
   "cell_type": "markdown",
   "metadata": {},
   "source": [
    "Many more: ``.min()``, ``.max()``, ``.mean()``...\n",
    "\n",
    "Better way is to use ``np.min()``, etc:"
   ]
  },
  {
   "cell_type": "code",
   "execution_count": 45,
   "metadata": {},
   "outputs": [
    {
     "name": "stdout",
     "output_type": "stream",
     "text": [
      "Mean axis1 [ 1.5  5.5  9.5 13.5 17.5]\n",
      "Median axis1 [ 1.5  5.5  9.5 13.5 17.5]\n",
      "Sample std axis1 [1.29099445 1.29099445 1.29099445 1.29099445 1.29099445]\n"
     ]
    }
   ],
   "source": [
    "print(\"Mean axis1\", np.mean(ref1, axis=1))\n",
    "print(\"Median axis1\", np.median(ref1, axis=1))\n",
    "print(\"Sample std axis1\", np.std(ref1, axis=1, ddof=1))"
   ]
  },
  {
   "attachments": {},
   "cell_type": "markdown",
   "metadata": {},
   "source": [
    "## Masking"
   ]
  },
  {
   "attachments": {},
   "cell_type": "markdown",
   "metadata": {},
   "source": [
    "### Basic Masking"
   ]
  },
  {
   "cell_type": "code",
   "execution_count": 67,
   "metadata": {},
   "outputs": [
    {
     "name": "stdout",
     "output_type": "stream",
     "text": [
      "[[-1.0856306   0.99734545  0.2829785  -1.50629471]\n",
      " [-0.57860025  1.65143654 -2.42667924 -0.42891263]\n",
      " [ 1.26593626 -0.8667404  -0.67888615 -0.09470897]\n",
      " [ 1.49138963 -0.638902   -0.44398196 -0.43435128]\n",
      " [ 2.20593008  2.18678609  1.0040539   0.3861864 ]]\n"
     ]
    }
   ],
   "source": [
    "rand = np.random.RandomState(123)\n",
    "a = rand.normal(size=(5, 4))\n",
    "b = rand.normal(size=(5, 4))\n",
    "print(a)"
   ]
  },
  {
   "cell_type": "markdown",
   "metadata": {},
   "source": [
    "NOTE: You should not erase any of the parentheses below:"
   ]
  },
  {
   "cell_type": "code",
   "execution_count": 68,
   "metadata": {},
   "outputs": [
    {
     "name": "stdout",
     "output_type": "stream",
     "text": [
      "Mask\n",
      " [[False  True  True False]\n",
      " [ True False False  True]\n",
      " [False  True  True  True]\n",
      " [False  True  True  True]\n",
      " [False False False  True]]\n",
      "\n",
      "Masked values\n",
      " [ 0.99734545  0.2829785  -0.57860025 -0.42891263 -0.8667404  -0.67888615\n",
      " -0.09470897 -0.638902   -0.44398196 -0.43435128  0.3861864 ]\n",
      "\n",
      "In 1-sigma ratio\n",
      " 0.55\n"
     ]
    }
   ],
   "source": [
    "m_a = ((-1 < a) & (a < 1))\n",
    "# For \"or\", you can use ``|`` (called \"pipe\". Hit \"shift + \\\")\n",
    "in1sig = np.count_nonzero(m_a)\n",
    "in1sig_ratio = in1sig / a.size\n",
    "\n",
    "print(\"Mask\\n\", m_a)\n",
    "print(\"\\nMasked values\\n\", a[m_a])\n",
    "print(\"\\nIn 1-sigma ratio\\n\", in1sig_ratio)"
   ]
  },
  {
   "cell_type": "markdown",
   "metadata": {},
   "source": [
    "Statistically, 68.xx % should be in 1-sigma range. We have only 20 samples, so it's a small-number statistics, and may significanlty differ from 68%."
   ]
  },
  {
   "cell_type": "code",
   "execution_count": 69,
   "metadata": {},
   "outputs": [
    {
     "data": {
      "text/plain": [
       "array([[ True,  True,  True,  True],\n",
       "       [ True,  True,  True,  True],\n",
       "       [ True, False, False,  True],\n",
       "       [ True,  True,  True,  True],\n",
       "       [ True,  True,  True,  True]])"
      ]
     },
     "execution_count": 69,
     "metadata": {},
     "output_type": "execute_result"
    }
   ],
   "source": [
    "data_quality = np.ones_like(b).astype(bool)\n",
    "data_quality[2, 1:3] = False\n",
    "data_quality"
   ]
  },
  {
   "attachments": {},
   "cell_type": "markdown",
   "metadata": {},
   "source": [
    "### Advanced Masking"
   ]
  },
  {
   "cell_type": "markdown",
   "metadata": {},
   "source": [
    "If you just do ``b[data_quality]``, the dimension will be reduced to 1-D, which makes it difficult to operate (e.g., average) with ``a``. Then, we replace these with ``nan``:"
   ]
  },
  {
   "cell_type": "code",
   "execution_count": 70,
   "metadata": {},
   "outputs": [
    {
     "data": {
      "text/plain": [
       "array([[ 0.73736858,  1.49073203, -0.93583387,  1.17582904],\n",
       "       [-1.25388067, -0.6377515 ,  0.9071052 , -1.4286807 ],\n",
       "       [-0.14006872,         nan,         nan, -2.79858911],\n",
       "       [-1.7715331 , -0.69987723,  0.92746243, -0.17363568],\n",
       "       [ 0.00284592,  0.68822271, -0.87953634,  0.28362732]])"
      ]
     },
     "execution_count": 70,
     "metadata": {},
     "output_type": "execute_result"
    }
   ],
   "source": [
    "b_nan = b.copy()\n",
    "b_nan[~data_quality] = np.nan\n",
    "b_nan"
   ]
  },
  {
   "cell_type": "code",
   "execution_count": 71,
   "metadata": {},
   "outputs": [
    {
     "data": {
      "text/plain": [
       "array([[-0.17413101,  1.24403874, -0.32642769, -0.16523283],\n",
       "       [-0.91624046,  0.50684252, -0.75978702, -0.92879666],\n",
       "       [ 0.56293377,         nan,         nan, -1.44664904],\n",
       "       [-0.14007174, -0.66938962,  0.24174024, -0.30399348],\n",
       "       [ 1.104388  ,  1.4375044 ,  0.06225878,  0.33490686]])"
      ]
     },
     "execution_count": 71,
     "metadata": {},
     "output_type": "execute_result"
    }
   ],
   "source": [
    "np.mean([a, b_nan], axis=0)"
   ]
  },
  {
   "cell_type": "markdown",
   "metadata": {},
   "source": [
    "Whole data is ignored at least one is ``nan``. How to just ignore ``nan`` and take average of non-nan values?"
   ]
  },
  {
   "cell_type": "code",
   "execution_count": 51,
   "metadata": {},
   "outputs": [
    {
     "data": {
      "text/plain": [
       "array([[-0.17413101,  1.24403874, -0.32642769, -0.16523283],\n",
       "       [-0.91624046,  0.50684252, -0.75978702, -0.92879666],\n",
       "       [ 0.56293377, -0.8667404 , -0.67888615, -1.44664904],\n",
       "       [-0.14007174, -0.66938962,  0.24174024, -0.30399348],\n",
       "       [ 1.104388  ,  1.4375044 ,  0.06225878,  0.33490686]])"
      ]
     },
     "execution_count": 51,
     "metadata": {},
     "output_type": "execute_result"
    }
   ],
   "source": [
    "np.nanmean([a, b_nan], axis=0)"
   ]
  },
  {
   "cell_type": "markdown",
   "metadata": {},
   "source": [
    "``nanmean``, ``nanmedian``, etc are much slower:"
   ]
  },
  {
   "cell_type": "code",
   "execution_count": 52,
   "metadata": {},
   "outputs": [
    {
     "name": "stdout",
     "output_type": "stream",
     "text": [
      "11.5 µs ± 902 ns per loop (mean ± std. dev. of 7 runs, 100000 loops each)\n",
      "29.3 µs ± 924 ns per loop (mean ± std. dev. of 7 runs, 10000 loops each)\n"
     ]
    }
   ],
   "source": [
    "%timeit np.mean([a, b_nan], axis=0)\n",
    "%timeit np.nanmean([a, b_nan], axis=0)"
   ]
  },
  {
   "cell_type": "markdown",
   "metadata": {},
   "source": [
    "NOTE: If you want to test the time spent on the whole cell, use ``%%timeit``.\n",
    "\n",
    "TIP: There's a package called [``bottleneck``](https://github.com/pydata/bottleneck) which is much faster than numpy in many cases."
   ]
  },
  {
   "attachments": {},
   "cell_type": "markdown",
   "metadata": {},
   "source": [
    "### Masked Array"
   ]
  },
  {
   "cell_type": "code",
   "execution_count": 53,
   "metadata": {},
   "outputs": [
    {
     "name": "stdout",
     "output_type": "stream",
     "text": [
      "<class 'numpy.ma.core.MaskedArray'>\n"
     ]
    }
   ],
   "source": [
    "a_masked = np.ma.array(data=a, mask=m_a)\n",
    "b_masked = np.ma.array(data=b, mask=~data_quality)\n",
    "print(type(a_masked))"
   ]
  },
  {
   "cell_type": "code",
   "execution_count": 54,
   "metadata": {},
   "outputs": [
    {
     "data": {
      "text/plain": [
       "masked_array(\n",
       "  data=[[-1.0856306033005612, --, --, -1.506294713918092],\n",
       "        [--, 1.651436537097151, -2.426679243393074, --],\n",
       "        [1.265936258705534, --, --, --],\n",
       "        [1.4913896261242878, --, --, --],\n",
       "        [2.2059300827254558, 2.1867860889737867, 1.004053897878877, --]],\n",
       "  mask=[[False,  True,  True, False],\n",
       "        [ True, False, False,  True],\n",
       "        [False,  True,  True,  True],\n",
       "        [False,  True,  True,  True],\n",
       "        [False, False, False,  True]],\n",
       "  fill_value=1e+20)"
      ]
     },
     "execution_count": 54,
     "metadata": {},
     "output_type": "execute_result"
    }
   ],
   "source": [
    "a_masked"
   ]
  },
  {
   "cell_type": "code",
   "execution_count": 55,
   "metadata": {},
   "outputs": [
    {
     "data": {
      "text/plain": [
       "masked_array(\n",
       "  data=[[0.7373685758962422, 1.490732028150799, -0.9358338684023914,\n",
       "         1.1758290447821034],\n",
       "        [-1.2538806677490124, -0.6377515024534103, 0.9071051958003012,\n",
       "         -1.428680700225969],\n",
       "        [-0.1400687201886661, --, --, -2.7985891054607244],\n",
       "        [-1.771533104509847, -0.6998772345979173, 0.9274624317585825,\n",
       "         -0.1736356827902158],\n",
       "        [0.0028459158968110196, 0.688222711102285, -0.8795363430090519,\n",
       "         0.283627323807291]],\n",
       "  mask=[[False, False, False, False],\n",
       "        [False, False, False, False],\n",
       "        [False,  True,  True, False],\n",
       "        [False, False, False, False],\n",
       "        [False, False, False, False]],\n",
       "  fill_value=1e+20)"
      ]
     },
     "execution_count": 55,
     "metadata": {},
     "output_type": "execute_result"
    }
   ],
   "source": [
    "b_masked"
   ]
  },
  {
   "cell_type": "code",
   "execution_count": 56,
   "metadata": {},
   "outputs": [
    {
     "data": {
      "text/plain": [
       "array([[False,  True,  True, False],\n",
       "       [ True, False, False,  True],\n",
       "       [False,  True,  True,  True],\n",
       "       [False,  True,  True,  True],\n",
       "       [False, False, False,  True]])"
      ]
     },
     "execution_count": 56,
     "metadata": {},
     "output_type": "execute_result"
    }
   ],
   "source": [
    "a_masked.mask"
   ]
  },
  {
   "cell_type": "code",
   "execution_count": 57,
   "metadata": {},
   "outputs": [
    {
     "data": {
      "text/plain": [
       "array([[-1.0856306 ,  0.99734545,  0.2829785 , -1.50629471],\n",
       "       [-0.57860025,  1.65143654, -2.42667924, -0.42891263],\n",
       "       [ 1.26593626, -0.8667404 , -0.67888615, -0.09470897],\n",
       "       [ 1.49138963, -0.638902  , -0.44398196, -0.43435128],\n",
       "       [ 2.20593008,  2.18678609,  1.0040539 ,  0.3861864 ]])"
      ]
     },
     "execution_count": 57,
     "metadata": {},
     "output_type": "execute_result"
    }
   ],
   "source": [
    "a_masked.data"
   ]
  },
  {
   "cell_type": "markdown",
   "metadata": {},
   "source": [
    "For masked array, numpy automatically ignore \"maked\" ones when do any arithmentics"
   ]
  },
  {
   "cell_type": "code",
   "execution_count": 58,
   "metadata": {},
   "outputs": [
    {
     "name": "stdout",
     "output_type": "stream",
     "text": [
      "0.11441773195529023 0.5318808812103739\n"
     ]
    }
   ],
   "source": [
    "print(np.mean(a), np.mean(a_masked))"
   ]
  },
  {
   "cell_type": "markdown",
   "metadata": {},
   "source": [
    "When two masked arrays are operated, mask is ``mask1 | mask2 | ...``:"
   ]
  },
  {
   "cell_type": "code",
   "execution_count": 59,
   "metadata": {},
   "outputs": [
    {
     "data": {
      "text/plain": [
       "masked_array(\n",
       "  data=[[-0.348262027404319, --, --, -0.3304656691359886],\n",
       "        [--, 1.013685034643741, -1.5195740475927728, --],\n",
       "        [1.125867538516868, --, --, --],\n",
       "        [-0.2801434783855592, --, --, --],\n",
       "        [2.208775998622267, 2.8750088000760714, 0.12451755486982519, --]],\n",
       "  mask=[[False,  True,  True, False],\n",
       "        [ True, False, False,  True],\n",
       "        [False,  True,  True,  True],\n",
       "        [False,  True,  True,  True],\n",
       "        [False, False, False,  True]],\n",
       "  fill_value=1e+20)"
      ]
     },
     "execution_count": 59,
     "metadata": {},
     "output_type": "execute_result"
    }
   ],
   "source": [
    "a_masked + b_masked"
   ]
  },
  {
   "attachments": {},
   "cell_type": "markdown",
   "metadata": {},
   "source": [
    "## File I/O"
   ]
  },
  {
   "attachments": {},
   "cell_type": "markdown",
   "metadata": {},
   "source": [
    "Although generally it's recommended to do file i/o (input/output, which means \"saveing/loading\") using `pandas` or other packages, numpy also has file i/o tools."
   ]
  },
  {
   "cell_type": "code",
   "execution_count": 60,
   "metadata": {},
   "outputs": [],
   "source": [
    "np.save(\"test_a\", a)"
   ]
  },
  {
   "cell_type": "markdown",
   "metadata": {},
   "source": [
    "The masked array is not savable: ``np.save(\"test_a_masked\", a_masked)`` will give you an Error."
   ]
  },
  {
   "cell_type": "code",
   "execution_count": 61,
   "metadata": {},
   "outputs": [
    {
     "data": {
      "text/plain": [
       "array([[-1.0856306 ,  0.99734545,  0.2829785 , -1.50629471],\n",
       "       [-0.57860025,  1.65143654, -2.42667924, -0.42891263],\n",
       "       [ 1.26593626, -0.8667404 , -0.67888615, -0.09470897],\n",
       "       [ 1.49138963, -0.638902  , -0.44398196, -0.43435128],\n",
       "       [ 2.20593008,  2.18678609,  1.0040539 ,  0.3861864 ]])"
      ]
     },
     "execution_count": 61,
     "metadata": {},
     "output_type": "execute_result"
    }
   ],
   "source": [
    "np.load(\"test_a.npy\")"
   ]
  },
  {
   "cell_type": "code",
   "execution_count": 62,
   "metadata": {},
   "outputs": [],
   "source": [
    "with open(\"test_data.csv\", \"w+\") as ff:\n",
    "    ff.write('''\n",
    "1,2.3,C\n",
    "2,1.9,A\n",
    "3,3.3,AB\n",
    "4,3.0,A\n",
    "5,1.2,AB\n",
    "''')"
   ]
  },
  {
   "cell_type": "code",
   "execution_count": 63,
   "metadata": {},
   "outputs": [
    {
     "name": "stdout",
     "output_type": "stream",
     "text": [
      "[[1.  2.3 nan]\n",
      " [2.  1.9 nan]\n",
      " [3.  3.3 nan]\n",
      " [4.  3.  nan]\n",
      " [5.  1.2 nan]]\n"
     ]
    }
   ],
   "source": [
    "data = np.genfromtxt(\"test_data.csv\", \n",
    "                     delimiter=',', \n",
    "                    )\n",
    "print(data)"
   ]
  },
  {
   "cell_type": "markdown",
   "metadata": {},
   "source": [
    "If str data is also required, it gets dirty:"
   ]
  },
  {
   "cell_type": "code",
   "execution_count": 64,
   "metadata": {},
   "outputs": [
    {
     "name": "stdout",
     "output_type": "stream",
     "text": [
      "[['1' '2.3' 'C']\n",
      " ['2' '1.9' 'A']\n",
      " ['3' '3.3' 'AB']\n",
      " ['4' '3.0' 'A']\n",
      " ['5' '1.2' 'AB']]\n"
     ]
    }
   ],
   "source": [
    "data = np.genfromtxt(\"test_data.csv\", \n",
    "                     delimiter=',', \n",
    "                     dtype=bytes\n",
    "                    ).astype(str)\n",
    "print(data)"
   ]
  },
  {
   "cell_type": "code",
   "execution_count": 65,
   "metadata": {},
   "outputs": [
    {
     "name": "stdout",
     "output_type": "stream",
     "text": [
      "[2.3 1.9 3.3 3.  1.2]\n"
     ]
    }
   ],
   "source": [
    "values = data[:, 1].astype(float)\n",
    "print(values)"
   ]
  },
  {
   "cell_type": "markdown",
   "metadata": {},
   "source": [
    "Much more details are at [the official doc](https://docs.scipy.org/doc/numpy/user/basics.io.html)"
   ]
  }
 ],
 "metadata": {
  "kernelspec": {
   "display_name": "Python 3",
   "language": "python",
   "name": "python3"
  },
  "language_info": {
   "codemirror_mode": {
    "name": "ipython",
    "version": 3
   },
   "file_extension": ".py",
   "mimetype": "text/x-python",
   "name": "python",
   "nbconvert_exporter": "python",
   "pygments_lexer": "ipython3",
   "version": "3.10.10"
  },
  "varInspector": {
   "cols": {
    "lenName": 16,
    "lenType": 16,
    "lenVar": 40
   },
   "kernels_config": {
    "python": {
     "delete_cmd_postfix": "",
     "delete_cmd_prefix": "del ",
     "library": "var_list.py",
     "varRefreshCmd": "print(var_dic_list())"
    },
    "r": {
     "delete_cmd_postfix": ") ",
     "delete_cmd_prefix": "rm(",
     "library": "var_list.r",
     "varRefreshCmd": "cat(var_dic_list()) "
    }
   },
   "types_to_exclude": [
    "module",
    "function",
    "builtin_function_or_method",
    "instance",
    "_Feature"
   ],
   "window_display": false
  }
 },
 "nbformat": 4,
 "nbformat_minor": 2
}
